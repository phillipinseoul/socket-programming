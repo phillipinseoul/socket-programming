{
  "nbformat": 4,
  "nbformat_minor": 0,
  "metadata": {
    "colab": {
      "name": "UDPClient.ipynb",
      "provenance": [],
      "authorship_tag": "ABX9TyOwAKj8qsB0pTd96Am1hqU5",
      "include_colab_link": true
    },
    "kernelspec": {
      "name": "python3",
      "display_name": "Python 3"
    }
  },
  "cells": [
    {
      "cell_type": "markdown",
      "metadata": {
        "id": "view-in-github",
        "colab_type": "text"
      },
      "source": [
        "<a href=\"https://colab.research.google.com/github/phillipinseoul/socket-programming/blob/master/UDPClient.ipynb\" target=\"_parent\"><img src=\"https://colab.research.google.com/assets/colab-badge.svg\" alt=\"Open In Colab\"/></a>"
      ]
    },
    {
      "cell_type": "code",
      "metadata": {
        "id": "t_p-Tlpbxuc8",
        "colab_type": "code",
        "colab": {}
      },
      "source": [
        "from socket import *\n",
        "serverName = '127.0.0.1'\n",
        "serverPort = 12000\n",
        "clientSocket = socket(AF_INET, SOCK_DGRAM)\n",
        "message = raw_input('Input lowercase sentence:')\n",
        "clientSocket.sendto(message.encode(), (serverName, serverPort))\n",
        "\n",
        "modifiedMessage, serverAddress = clientSocket.recvfrom(2048)\n",
        "print(modifiedMessage.decode())\n",
        "clientSocket.close()"
      ],
      "execution_count": null,
      "outputs": []
    }
  ]
}
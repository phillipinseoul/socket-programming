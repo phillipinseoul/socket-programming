{
  "nbformat": 4,
  "nbformat_minor": 0,
  "metadata": {
    "colab": {
      "name": "UDPServer.ipynb",
      "provenance": [],
      "authorship_tag": "ABX9TyNkUabR0BfNlev26R5UGwh+",
      "include_colab_link": true
    },
    "kernelspec": {
      "name": "python3",
      "display_name": "Python 3"
    }
  },
  "cells": [
    {
      "cell_type": "markdown",
      "metadata": {
        "id": "view-in-github",
        "colab_type": "text"
      },
      "source": [
        "<a href=\"https://colab.research.google.com/github/phillipinseoul/socket-programming/blob/master/UDPServer.ipynb\" target=\"_parent\"><img src=\"https://colab.research.google.com/assets/colab-badge.svg\" alt=\"Open In Colab\"/></a>"
      ]
    },
    {
      "cell_type": "code",
      "metadata": {
        "id": "o7p52hMd0BdP",
        "colab_type": "code",
        "colab": {}
      },
      "source": [
        "from socket import *\n",
        "serverPort = 12000\n",
        "serverSocket = socket(AF_INET, SOCK_DGRAM)\n",
        "serverSocket.bind(('', serverPort))\n",
        "print(\"The server is ready to receive\")\n",
        "while True:\n",
        "  message, clientAddress = serverSocket.recvfrom(2048)\n",
        "  modifiedMessage = message.decode().upper()\n",
        "  serverSocket.sendto(modifiedMessage.encode(), clientAddress)\n"
      ],
      "execution_count": null,
      "outputs": []
    }
  ]
}